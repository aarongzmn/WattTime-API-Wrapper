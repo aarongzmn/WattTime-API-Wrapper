{
 "cells": [
  {
   "cell_type": "markdown",
   "metadata": {},
   "source": [
    "# WattTime\n",
    "This Python module was created to facilitate interaction with the WattTime API.\n",
    "This module provides full API functionality can be accessed through this module, as well as some additional tools that make \n",
    "- https://www.watttime.org/api-documentation"
   ]
  },
  {
   "cell_type": "markdown",
   "metadata": {},
   "source": [
    "## Register Account\n",
    "#### Skip this step if you already have an account.\n",
    "- https://www.watttime.org/api-documentation/#register-new-user"
   ]
  },
  {
   "cell_type": "code",
   "execution_count": null,
   "metadata": {},
   "outputs": [],
   "source": [
    "from WattTime import WattTime\n",
    "\n",
    "username = \"{USERNAME}\"\n",
    "password = \"{PASSWORD}\"\n",
    "email = \"{EMAIL_ADDRESS}\"\n",
    "org = \"{ORG_NAME}\"\n",
    "\n",
    "wt = WattTime.RegisterNewUser(username, password, email)\n"
   ]
  },
  {
   "cell_type": "markdown",
   "metadata": {},
   "source": [
    "## Instantiate Class and Authenticate\n",
    "#### Requires account username and password"
   ]
  },
  {
   "cell_type": "code",
   "execution_count": null,
   "metadata": {},
   "outputs": [],
   "source": [
    "from WattTime import WattTime\n",
    "import os\n",
    "\n",
    "\n",
    "username = os.getenv(\"WATTTIME_API_USERNAME\")\n",
    "password = os.getenv(\"WATTTIME_API_PASSWORD\")\n",
    "\n",
    "wt = WattTime.GridEmissionsInformation(username, password)"
   ]
  },
  {
   "cell_type": "markdown",
   "metadata": {},
   "source": [
    "## Grid Emissions Information (Class Methods)"
   ]
  },
  {
   "cell_type": "markdown",
   "metadata": {},
   "source": [
    "### Determine Grid Region\n",
    "- https://www.watttime.org/api-documentation/#determine-grid-region"
   ]
  },
  {
   "cell_type": "code",
   "execution_count": null,
   "metadata": {},
   "outputs": [],
   "source": [
    "latitude = 33.844978\n",
    "longitude = -118.387238\n",
    "wt.determine_grid_region(latitude, longitude)"
   ]
  },
  {
   "cell_type": "markdown",
   "metadata": {},
   "source": [
    "### List of Grid Regions\n",
    "- https://www.watttime.org/api-documentation/#list-of-grid-regions"
   ]
  },
  {
   "cell_type": "code",
   "execution_count": null,
   "metadata": {},
   "outputs": [],
   "source": [
    "all_regions = False\n",
    "\n",
    "wt.list_grid_regions(all_regions)"
   ]
  },
  {
   "cell_type": "markdown",
   "metadata": {},
   "source": [
    "### Real-time Emissions Index\n",
    "- https://www.watttime.org/api-documentation/#real-time-emissions-index"
   ]
  },
  {
   "cell_type": "markdown",
   "metadata": {},
   "source": [
    "#### Search by Balancing Authority Abbreviation"
   ]
  },
  {
   "cell_type": "code",
   "execution_count": null,
   "metadata": {},
   "outputs": [],
   "source": [
    "bal_auth_abbr = \"CAISO_NORTH\"\n",
    "wt.real_time_emissions_index(bal_auth_abbr=bal_auth_abbr)"
   ]
  },
  {
   "cell_type": "markdown",
   "metadata": {},
   "source": [
    "#### Search by Latitude and Longitude"
   ]
  },
  {
   "cell_type": "code",
   "execution_count": null,
   "metadata": {},
   "outputs": [],
   "source": [
    "latitude = 33.844978\n",
    "longitude = -118.387238\n",
    "lati_long = (latitude, longitude)\n",
    "wt.real_time_emissions_index(lati_long=lati_long, style=\"moer\")"
   ]
  },
  {
   "cell_type": "markdown",
   "metadata": {},
   "source": [
    "### Grid Emissions Data\n",
    "- https://www.watttime.org/api-documentation/#grid-emissions-data"
   ]
  },
  {
   "cell_type": "markdown",
   "metadata": {},
   "source": [
    "#### Search by Balancing Authority Abbreviation"
   ]
  },
  {
   "cell_type": "code",
   "execution_count": null,
   "metadata": {},
   "outputs": [],
   "source": [
    "bal_auth_abbr = \"CAISO_NORTH\"\n",
    "wt.grid_emissions_data(bal_auth_abbr=bal_auth_abbr)"
   ]
  },
  {
   "cell_type": "markdown",
   "metadata": {},
   "source": [
    "#### Search by Latitude and Longitude"
   ]
  },
  {
   "cell_type": "code",
   "execution_count": null,
   "metadata": {},
   "outputs": [],
   "source": [
    "latitude = 33.844978\n",
    "longitude = -118.387238\n",
    "lati_long = (latitude, longitude)\n",
    "wt.grid_emissions_data(lati_long=lati_long)"
   ]
  },
  {
   "cell_type": "markdown",
   "metadata": {},
   "source": [
    "### Historical Emissions"
   ]
  },
  {
   "cell_type": "code",
   "execution_count": null,
   "metadata": {},
   "outputs": [],
   "source": [
    "bal_auth_abbr=\"CAISO_NORTH\"\n",
    "filename = \"historical_emissions\"\n",
    "extract_files = True\n",
    "concatenate = True\n",
    "\n",
    "wt.historical_emissions(bal_auth_abbr, filename)\n"
   ]
  },
  {
   "cell_type": "markdown",
   "metadata": {},
   "source": [
    "### Emissions Forecast"
   ]
  },
  {
   "cell_type": "code",
   "execution_count": null,
   "metadata": {},
   "outputs": [],
   "source": [
    "bal_auth_abbr=\"CAISO_NORTH\"\n",
    "\n",
    "data = wt.emissions_forcast(bal_auth_abbr, extended_forecast=False)\n",
    "print(f\"Data generated at: {data.get('generated_at')}. \\n{len(data.get('forecast'))} datapoints found\")"
   ]
  },
  {
   "cell_type": "markdown",
   "metadata": {},
   "source": [
    "### Grid Region Map Geometry"
   ]
  },
  {
   "cell_type": "code",
   "execution_count": null,
   "metadata": {},
   "outputs": [],
   "source": [
    "from WattTime import WattTime\n",
    "import os\n",
    "\n",
    "\n",
    "username = os.getenv(\"WATTTIME_API_USERNAME\")\n",
    "password = os.getenv(\"WATTTIME_API_PASSWORD\")\n",
    "\n",
    "wt = WattTime.GridEmissionsInformation(username, password)"
   ]
  },
  {
   "cell_type": "code",
   "execution_count": null,
   "metadata": {},
   "outputs": [],
   "source": [
    "import time\n",
    "\n",
    "\n",
    "timestamp_list = []\n",
    "for i in range(5):\n",
    "    timestamp_list.append(int(time.time()) + i)\n",
    "\n",
    "\n",
    "timestamp_list.reverse()  # reverse so that order is oldest to newest\n",
    "\n",
    "print(timestamp_list)\n",
    "print(\"\\n\")\n",
    "\n",
    "\n",
    "\n",
    "for i in range(6, 11):\n",
    "    timestamp_list = timestamp_list[1:] + [int(time.time()) + (i-5)]  # remove first item in list and replace last item with newest timestamp\n",
    "    print(timestamp_list)\n",
    "\n"
   ]
  },
  {
   "cell_type": "markdown",
   "metadata": {},
   "source": [
    "### Rate Limiting Algorithm\n",
    "\n",
    "\n",
    "\n",
    "rate_limit = r (requests)\n",
    "rate_time = t (seconds)\n",
    "\n",
    "\n",
    "1. New request comes in.\n",
    "2. create new cur_timestamp\n",
    "3. (list comprehension) filter timestamp_list  for timestamps newer than (cur_timestamp - rate limit period)\n",
    "4. If list comprehension list length...\n",
    "\t1. is gte than rate limit calls, calculate seconds between first item in list and cur_timestamp, and use that amount for time.sleep\n",
    "\t2. is less than rate limit calls, process new request:\n",
    "\t\t1. remove first item from list and add new timestamp to end of list\n",
    "\t\t2. \n"
   ]
  },
  {
   "cell_type": "code",
   "execution_count": null,
   "metadata": {},
   "outputs": [],
   "source": [
    "import requests\n",
    "import time\n",
    "import warnings\n",
    "\n",
    "\n",
    "class RateLimitTest:\n",
    "    \"\"\"Class to assist with rate limiting API requests\n",
    "\n",
    "        Args:\n",
    "            calls (int): Maximum number of API calls within time 'period'.\n",
    "            period (int): Amount of seconds before the rate limit resets.\n",
    "\n",
    "        Returns:\n",
    "            dict: Returns the details of the balancing authority (BA) serving that location, if known,\n",
    "                or a Coordinates not found error if the point lies outside of known/covered BAs.\n",
    "        \"\"\"\n",
    "    def __init__(self, calls: int = 60, period: int = 60, cushion: int = 0):\n",
    "        self.calls = calls\n",
    "        self.period = period\n",
    "        self.cushion = cushion\n",
    "        self._timestamp_list = [time.time() - period] * calls\n",
    "        self._session = requests.Session()\n",
    "\n",
    "    def _check_rate_limit(self):\n",
    "        ts_now = time.time()\n",
    "        request_count = len([ts for ts in self._timestamp_list if ts > (ts_now - self.period)])\n",
    "        if request_count >= self.calls:\n",
    "            rate_limit_cooldown = int(ts_now - self._timestamp_list[0]) + self.cushion\n",
    "            # warnings.warn(f\"API rate limit reached, waiting for reset in {rate_limit_cooldown} seconds\")\n",
    "            time.sleep(rate_limit_cooldown)\n",
    "        self._timestamp_list = self._timestamp_list[1:] + [ts_now]\n",
    "        return\n",
    "\n",
    "    def make_request(self, counter) -> None:\n",
    "        self._check_rate_limit()\n",
    "        webhook = \"https://events.hookdeck.com/e/src_OQSYxUeuKD0k\"\n",
    "        data = {\"counter\": counter}\n",
    "        try:\n",
    "            r = self._session.post(webhook, json=data)\n",
    "            if r.status_code == 429:\n",
    "                raise Exception(f\"HTTPError {r.status_code}: {r.reason}\")\n",
    "            else:\n",
    "                # Catch all other HTTP errors\n",
    "                r.raise_for_status()\n",
    "        except requests.exceptions.HTTPError as e:\n",
    "            raise\n",
    "\n"
   ]
  },
  {
   "cell_type": "code",
   "execution_count": null,
   "metadata": {},
   "outputs": [],
   "source": [
    "from tqdm import trange\n",
    "\n",
    "\n",
    "calls = 60\n",
    "period = 60\n",
    "limiter = RateLimitTest(calls, period, cushion=10)\n",
    "\n",
    "for i in trange(120):\n",
    "    limiter.make_request(i)\n"
   ]
  }
 ],
 "metadata": {
  "interpreter": {
   "hash": "a40b81285cd44128feec821dab73a47bf32ae22f8f2a6a05ed02e00772026319"
  },
  "kernelspec": {
   "display_name": "Python 3.9.5 64-bit",
   "language": "python",
   "name": "python3"
  },
  "language_info": {
   "codemirror_mode": {
    "name": "ipython",
    "version": 3
   },
   "file_extension": ".py",
   "mimetype": "text/x-python",
   "name": "python",
   "nbconvert_exporter": "python",
   "pygments_lexer": "ipython3",
   "version": "3.9.6"
  },
  "orig_nbformat": 4
 },
 "nbformat": 4,
 "nbformat_minor": 2
}
