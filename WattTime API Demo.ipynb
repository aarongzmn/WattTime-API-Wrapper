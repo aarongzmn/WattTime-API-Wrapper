{
 "cells": [
  {
   "cell_type": "markdown",
   "metadata": {},
   "source": [
    "# WattTime\n",
    "This Python module was created to facilitate interaction with the WattTime API.\n",
    "- https://www.watttime.org/api-documentation"
   ]
  },
  {
   "cell_type": "markdown",
   "metadata": {},
   "source": [
    "## Register Account\n",
    "#### Skip this step if you already have an account.\n",
    "- https://www.watttime.org/api-documentation/#register-new-user"
   ]
  },
  {
   "cell_type": "code",
   "execution_count": null,
   "metadata": {},
   "outputs": [],
   "source": [
    "from WattTime import WattTime\n",
    "\n",
    "username = \"{USERNAME}\"\n",
    "password = \"{PASSWORD}\"\n",
    "email = \"{EMAIL_ADDRESS}\"\n",
    "org = \"{ORG_NAME}\"\n",
    "\n",
    "wt = WattTime.RegisterNewUser(username, password, email)\n"
   ]
  },
  {
   "cell_type": "markdown",
   "metadata": {},
   "source": [
    "## Instantiate Class and Authenticate\n",
    "#### Requires account username and password"
   ]
  },
  {
   "cell_type": "code",
   "execution_count": 7,
   "metadata": {},
   "outputs": [],
   "source": [
    "from WattTime import WattTime\n",
    "import os\n",
    "\n",
    "\n",
    "username = os.getenv(\"WATTTIME_API_USERNAME\")\n",
    "password = os.getenv(\"WATTTIME_API_PASSWORD\")\n",
    "\n",
    "wt = WattTime.GridEmissionsInformation(username, password)"
   ]
  },
  {
   "cell_type": "markdown",
   "metadata": {},
   "source": [
    "### Determine Grid Region\n",
    "- https://www.watttime.org/api-documentation/#determine-grid-region"
   ]
  },
  {
   "cell_type": "code",
   "execution_count": 8,
   "metadata": {},
   "outputs": [
    {
     "data": {
      "text/plain": [
       "{'abbrev': 'CAISO_LONGBEACH', 'name': 'California ISO Long Beach', 'id': 233}"
      ]
     },
     "execution_count": 8,
     "metadata": {},
     "output_type": "execute_result"
    }
   ],
   "source": [
    "latitude = 33.844978\n",
    "longitude = -118.387238\n",
    "wt.determine_grid_region(latitude, longitude)"
   ]
  },
  {
   "cell_type": "markdown",
   "metadata": {},
   "source": [
    "### List of Grid Regions\n",
    "- https://www.watttime.org/api-documentation/#list-of-grid-regions"
   ]
  },
  {
   "cell_type": "code",
   "execution_count": 9,
   "metadata": {},
   "outputs": [
    {
     "data": {
      "text/plain": [
       "[{'ba': 'CAISO_NORTH',\n",
       "  'name': 'California ISO Northern',\n",
       "  'access': True,\n",
       "  'datatype': 'MOER'}]"
      ]
     },
     "execution_count": 9,
     "metadata": {},
     "output_type": "execute_result"
    }
   ],
   "source": [
    "all_regions = False\n",
    "\n",
    "wt.list_grid_regions(all_regions)"
   ]
  },
  {
   "cell_type": "markdown",
   "metadata": {},
   "source": [
    "### Real-time Emissions Index\n",
    "- https://www.watttime.org/api-documentation/#real-time-emissions-index"
   ]
  },
  {
   "cell_type": "markdown",
   "metadata": {},
   "source": [
    "#### Search by Balancing Authority Abbreviation"
   ]
  },
  {
   "cell_type": "code",
   "execution_count": 10,
   "metadata": {},
   "outputs": [
    {
     "data": {
      "text/plain": [
       "{'ba': 'CAISO_NORTH',\n",
       " 'freq': '300',\n",
       " 'percent': '47',\n",
       " 'moer': '872',\n",
       " 'point_time': '2022-05-09T08:00:00Z'}"
      ]
     },
     "execution_count": 10,
     "metadata": {},
     "output_type": "execute_result"
    }
   ],
   "source": [
    "balancing_auth = \"CAISO_NORTH\"\n",
    "wt.real_time_emissions_index(balancing_auth=balancing_auth)"
   ]
  },
  {
   "cell_type": "markdown",
   "metadata": {},
   "source": [
    "#### Search by Latitude and Longitude"
   ]
  },
  {
   "cell_type": "code",
   "execution_count": 11,
   "metadata": {},
   "outputs": [
    {
     "data": {
      "text/plain": [
       "{'ba': 'CAISO_LONGBEACH',\n",
       " 'freq': '300',\n",
       " 'percent': '44',\n",
       " 'point_time': '2022-05-09T08:00:00Z'}"
      ]
     },
     "execution_count": 11,
     "metadata": {},
     "output_type": "execute_result"
    }
   ],
   "source": [
    "latitude = 33.844978\n",
    "longitude = -118.387238\n",
    "wt.real_time_emissions_index(latitude=latitude, longitude=longitude, style=\"moer\")"
   ]
  },
  {
   "cell_type": "markdown",
   "metadata": {},
   "source": [
    "### Grid Emissions Data\n",
    "- https://www.watttime.org/api-documentation/#grid-emissions-data"
   ]
  },
  {
   "cell_type": "markdown",
   "metadata": {},
   "source": [
    "#### Search by Balancing Authority Abbreviation"
   ]
  },
  {
   "cell_type": "code",
   "execution_count": 12,
   "metadata": {},
   "outputs": [
    {
     "data": {
      "text/plain": [
       "[{'point_time': '2022-05-09T08:00:00Z',\n",
       "  'value': '872',\n",
       "  'frequency': 300,\n",
       "  'market': 'RTM',\n",
       "  'ba': 'CAISO_NORTH',\n",
       "  'datatype': 'MOER',\n",
       "  'version': '3.0'}]"
      ]
     },
     "execution_count": 12,
     "metadata": {},
     "output_type": "execute_result"
    }
   ],
   "source": [
    "balancing_auth = \"CAISO_NORTH\"\n",
    "wt.grid_emissions_data(balancing_auth=balancing_auth)"
   ]
  },
  {
   "cell_type": "markdown",
   "metadata": {},
   "source": [
    "#### Search by Latitude and Longitude"
   ]
  },
  {
   "cell_type": "code",
   "execution_count": null,
   "metadata": {},
   "outputs": [],
   "source": [
    "latitude = 33.844978\n",
    "longitude = -118.387238\n",
    "lati_long = (latitude, longitude)\n",
    "wt.grid_emissions_data(latitude=latitude, longitude=longitude)"
   ]
  },
  {
   "cell_type": "markdown",
   "metadata": {},
   "source": [
    "### Historical Emissions\n",
    "- This library includes support for extracting the zip file response, along with concatenating all extracted files (if desired)."
   ]
  },
  {
   "cell_type": "code",
   "execution_count": null,
   "metadata": {},
   "outputs": [],
   "source": [
    "balancing_auth=\"CAISO_NORTH\"\n",
    "filename = \"historical_emissions\"\n",
    "extract_files = True\n",
    "concatenate = True\n",
    "\n",
    "save_loc = wt.historical_emissions(balancing_auth, filename, True, True)\n",
    "print(save_loc)"
   ]
  },
  {
   "cell_type": "markdown",
   "metadata": {},
   "source": [
    "### Emissions Forecast"
   ]
  },
  {
   "cell_type": "code",
   "execution_count": null,
   "metadata": {},
   "outputs": [],
   "source": [
    "balancing_auth=\"CAISO_NORTH\"\n",
    "\n",
    "data = wt.emissions_forcast(balancing_auth, extended_forecast=False)\n",
    "print(f\"Data generated at: {data.get('generated_at')}. \\n{len(data.get('forecast'))} datapoints found\")"
   ]
  },
  {
   "cell_type": "markdown",
   "metadata": {},
   "source": [
    "### Grid Region Map Geometry\n",
    "- Note, this method has not been tested as I do not have the appropriate account subscription level."
   ]
  },
  {
   "cell_type": "code",
   "execution_count": null,
   "metadata": {},
   "outputs": [],
   "source": [
    "wt.get_region_map_geometry()"
   ]
  }
 ],
 "metadata": {
  "interpreter": {
   "hash": "6a5cb614e9233b4234af0c774f1c9917cf2601a116dcb435fe7d9a054ec67c43"
  },
  "kernelspec": {
   "display_name": "Python 3.9.6 64-bit",
   "language": "python",
   "name": "python3"
  },
  "language_info": {
   "codemirror_mode": {
    "name": "ipython",
    "version": 3
   },
   "file_extension": ".py",
   "mimetype": "text/x-python",
   "name": "python",
   "nbconvert_exporter": "python",
   "pygments_lexer": "ipython3",
   "version": "3.9.6"
  },
  "orig_nbformat": 4
 },
 "nbformat": 4,
 "nbformat_minor": 2
}
