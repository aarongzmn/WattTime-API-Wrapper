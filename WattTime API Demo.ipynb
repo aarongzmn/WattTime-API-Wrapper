{
 "cells": [
  {
   "cell_type": "markdown",
   "metadata": {},
   "source": [
    "# WattTime\n",
    "- https://www.watttime.org/api-documentation"
   ]
  },
  {
   "cell_type": "markdown",
   "metadata": {},
   "source": [
    "## Register Account\n",
    "#### Skip this step if you already have an account.\n",
    "- https://www.watttime.org/api-documentation/#register-new-user"
   ]
  },
  {
   "cell_type": "code",
   "execution_count": null,
   "metadata": {},
   "outputs": [],
   "source": [
    "from WattTime import WattTime\n",
    "\n",
    "username = \"{USERNAME}\"\n",
    "password = \"{PASSWORD}\"\n",
    "email = \"{EMAIL_ADDRESS}\"\n",
    "org = \"{ORG_NAME}\"\n",
    "\n",
    "wt = WattTime.RegisterNewUser(username, password)\n"
   ]
  },
  {
   "cell_type": "markdown",
   "metadata": {},
   "source": [
    "## Instantiate Class and Authenticate\n",
    "#### Requires account username and password"
   ]
  },
  {
   "cell_type": "code",
   "execution_count": null,
   "metadata": {},
   "outputs": [],
   "source": [
    "from WattTime import WattTime\n",
    "import os\n",
    "\n",
    "\n",
    "username = os.getenv(\"WATTTIME_API_USERNAME\")\n",
    "password = os.getenv(\"WATTTIME_API_PASSWORD\")\n",
    "\n",
    "wt = WattTime.GridEmissionsInformation(username, password)"
   ]
  },
  {
   "cell_type": "markdown",
   "metadata": {},
   "source": [
    "## Grid Emissions Information (Class Methods)"
   ]
  },
  {
   "cell_type": "markdown",
   "metadata": {},
   "source": [
    "### Determine Grid Region\n",
    "- https://www.watttime.org/api-documentation/#determine-grid-region"
   ]
  },
  {
   "cell_type": "code",
   "execution_count": null,
   "metadata": {},
   "outputs": [],
   "source": [
    "latitude = 33.844978\n",
    "longitude = -118.387238\n",
    "wt.determine_grid_region(latitude, longitude)"
   ]
  },
  {
   "cell_type": "markdown",
   "metadata": {},
   "source": [
    "### List of Grid Regions\n",
    "- https://www.watttime.org/api-documentation/#list-of-grid-regions"
   ]
  },
  {
   "cell_type": "code",
   "execution_count": null,
   "metadata": {},
   "outputs": [],
   "source": [
    "wt.list_grid_regions()"
   ]
  },
  {
   "cell_type": "markdown",
   "metadata": {},
   "source": [
    "### Real-time Emissions Index\n",
    "- https://www.watttime.org/api-documentation/#real-time-emissions-index"
   ]
  },
  {
   "cell_type": "markdown",
   "metadata": {},
   "source": [
    "#### Search by Balancing Authority Abbreviation"
   ]
  },
  {
   "cell_type": "code",
   "execution_count": null,
   "metadata": {},
   "outputs": [],
   "source": [
    "bal_auth_abbr = \"CAISO_NORTH\"\n",
    "wt.real_time_emissions_index(bal_auth_abbr=bal_auth_abbr)"
   ]
  },
  {
   "cell_type": "markdown",
   "metadata": {},
   "source": [
    "#### Search by Latitude and Longitude"
   ]
  },
  {
   "cell_type": "code",
   "execution_count": null,
   "metadata": {},
   "outputs": [],
   "source": [
    "latitude = 33.844978\n",
    "longitude = -118.387238\n",
    "lati_long = (latitude, longitude)\n",
    "wt.real_time_emissions_index(lati_long=lati_long, style=\"moer\")"
   ]
  },
  {
   "cell_type": "markdown",
   "metadata": {},
   "source": [
    "### Grid Emissions Data\n",
    "- https://www.watttime.org/api-documentation/#grid-emissions-data"
   ]
  },
  {
   "cell_type": "markdown",
   "metadata": {},
   "source": [
    "#### Search by Balancing Authority Abbreviation"
   ]
  },
  {
   "cell_type": "code",
   "execution_count": null,
   "metadata": {},
   "outputs": [],
   "source": [
    "bal_auth_abbr = \"CAISO_NORTH\"\n",
    "wt.grid_emissions_data(bal_auth_abbr=bal_auth_abbr)"
   ]
  },
  {
   "cell_type": "markdown",
   "metadata": {},
   "source": [
    "#### Search by Latitude and Longitude"
   ]
  },
  {
   "cell_type": "code",
   "execution_count": null,
   "metadata": {},
   "outputs": [],
   "source": [
    "latitude = 33.844978\n",
    "longitude = -118.387238\n",
    "lati_long = (latitude, longitude)\n",
    "wt.grid_emissions_data(lati_long=lati_long)"
   ]
  },
  {
   "cell_type": "markdown",
   "metadata": {},
   "source": [
    "### Historical Emissions"
   ]
  },
  {
   "cell_type": "code",
   "execution_count": null,
   "metadata": {},
   "outputs": [],
   "source": [
    "bal_auth_abbr=\"CAISO_NORTH\"\n",
    "filename = \"historical_emissions\"\n",
    "extract_files = True\n",
    "concatenate = True\n",
    "\n",
    "wt.historical_emissions(bal_auth_abbr, filename)\n"
   ]
  },
  {
   "cell_type": "markdown",
   "metadata": {},
   "source": [
    "### Emissions Forecast"
   ]
  },
  {
   "cell_type": "code",
   "execution_count": null,
   "metadata": {},
   "outputs": [],
   "source": [
    "bal_auth_abbr=\"CAISO_NORTH\"\n",
    "\n",
    "data = wt.emissions_forcast(bal_auth_abbr, extended_forecast=False)\n",
    "print(f\"Data generated at: {data.get('generated_at')}. \\n{len(data.get('forecast'))} datapoints found\")"
   ]
  },
  {
   "cell_type": "markdown",
   "metadata": {},
   "source": [
    "### Grid Region Map Geometry"
   ]
  },
  {
   "cell_type": "code",
   "execution_count": 1,
   "metadata": {},
   "outputs": [],
   "source": [
    "from WattTime import WattTime\n",
    "import os\n",
    "\n",
    "\n",
    "username = os.getenv(\"WATTTIME_API_USERNAME\")\n",
    "password = os.getenv(\"WATTTIME_API_PASSWORD\")\n",
    "\n",
    "wt = WattTime.GridEmissionsInformation(username, password)"
   ]
  },
  {
   "cell_type": "code",
   "execution_count": null,
   "metadata": {},
   "outputs": [],
   "source": [
    "# Localize Time\n",
    "from datetime import datetime\n",
    "import pytz\n",
    "\n",
    "\n",
    "timestamp = pytz.utc.localize(datetime(2020, 6, 1, 12, 30))\n",
    "timestamp"
   ]
  }
 ],
 "metadata": {
  "interpreter": {
   "hash": "a40b81285cd44128feec821dab73a47bf32ae22f8f2a6a05ed02e00772026319"
  },
  "kernelspec": {
   "display_name": "Python 3.9.5 64-bit",
   "language": "python",
   "name": "python3"
  },
  "language_info": {
   "codemirror_mode": {
    "name": "ipython",
    "version": 3
   },
   "file_extension": ".py",
   "mimetype": "text/x-python",
   "name": "python",
   "nbconvert_exporter": "python",
   "pygments_lexer": "ipython3",
   "version": "3.9.5"
  },
  "orig_nbformat": 4
 },
 "nbformat": 4,
 "nbformat_minor": 2
}
