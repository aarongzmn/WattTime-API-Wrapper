{
 "cells": [
  {
   "cell_type": "markdown",
   "metadata": {},
   "source": [
    "# WattTime\n",
    "- https://www.watttime.org/api-documentation"
   ]
  },
  {
   "cell_type": "markdown",
   "metadata": {},
   "source": [
    "## Register Account (If Necessary)\n",
    "- https://www.watttime.org/api-documentation/#register-new-user"
   ]
  },
  {
   "cell_type": "code",
   "execution_count": null,
   "metadata": {},
   "outputs": [],
   "source": [
    "from WattTime import WattTime\n",
    "\n",
    "username = \"{USERNAME}\"\n",
    "password = \"{PASSWORD}\"\n",
    "email = \"{EMAIL_ADDRESS}\"\n",
    "org = \"{ORG_NAME}\"\n",
    "\n",
    "wt = WattTime.RegisterNewUser(username, password)\n"
   ]
  },
  {
   "cell_type": "markdown",
   "metadata": {},
   "source": [
    "## Create class instance and authenticate"
   ]
  },
  {
   "cell_type": "code",
   "execution_count": 1,
   "metadata": {},
   "outputs": [],
   "source": [
    "from WattTime import WattTime\n",
    "import os\n",
    "\n",
    "\n",
    "username = os.getenv(\"WATTTIME_API_USERNAME\")\n",
    "password = os.getenv(\"WATTTIME_API_PASSWORD\")\n",
    "\n",
    "wt = WattTime.GridEmissionsInformation(username, password)"
   ]
  },
  {
   "cell_type": "markdown",
   "metadata": {},
   "source": [
    "## Grid Emissions Information (Class Methods)"
   ]
  },
  {
   "cell_type": "markdown",
   "metadata": {},
   "source": [
    "### Determine Grid Region\n",
    "- https://www.watttime.org/api-documentation/#determine-grid-region"
   ]
  },
  {
   "cell_type": "code",
   "execution_count": 2,
   "metadata": {},
   "outputs": [
    {
     "data": {
      "text/plain": [
       "{'abbrev': 'CAISO_LONGBEACH', 'name': 'California ISO Long Beach', 'id': 233}"
      ]
     },
     "execution_count": 2,
     "metadata": {},
     "output_type": "execute_result"
    }
   ],
   "source": [
    "latitude = 33.844978\n",
    "longitude = -118.387238\n",
    "wt.determine_grid_region(latitude, longitude)"
   ]
  },
  {
   "cell_type": "markdown",
   "metadata": {},
   "source": [
    "### List of Grid Regions\n",
    "- https://www.watttime.org/api-documentation/#list-of-grid-regions"
   ]
  },
  {
   "cell_type": "code",
   "execution_count": 3,
   "metadata": {},
   "outputs": [
    {
     "data": {
      "text/plain": [
       "[{'ba': 'CAISO_NORTH',\n",
       "  'name': 'California ISO Northern',\n",
       "  'access': True,\n",
       "  'datatype': 'MOER'}]"
      ]
     },
     "execution_count": 3,
     "metadata": {},
     "output_type": "execute_result"
    }
   ],
   "source": [
    "wt.list_grid_regions()"
   ]
  },
  {
   "cell_type": "markdown",
   "metadata": {},
   "source": [
    "### Real-time Emissions Index\n",
    "- https://www.watttime.org/api-documentation/#real-time-emissions-index"
   ]
  },
  {
   "cell_type": "markdown",
   "metadata": {},
   "source": [
    "#### Search by Balancing Authority Abbreviation"
   ]
  },
  {
   "cell_type": "code",
   "execution_count": 4,
   "metadata": {},
   "outputs": [
    {
     "data": {
      "text/plain": [
       "{'ba': 'CAISO_NORTH',\n",
       " 'freq': '300',\n",
       " 'percent': '41',\n",
       " 'moer': '864',\n",
       " 'point_time': '2022-05-05T07:20:00Z'}"
      ]
     },
     "execution_count": 4,
     "metadata": {},
     "output_type": "execute_result"
    }
   ],
   "source": [
    "bal_auth_abbr = \"CAISO_NORTH\"\n",
    "wt.real_time_emissions_index(bal_auth_abbr=bal_auth_abbr)"
   ]
  },
  {
   "cell_type": "markdown",
   "metadata": {},
   "source": [
    "#### Search by Latitude and Longitude"
   ]
  },
  {
   "cell_type": "code",
   "execution_count": 5,
   "metadata": {},
   "outputs": [
    {
     "data": {
      "text/plain": [
       "{'ba': 'CAISO_LONGBEACH',\n",
       " 'freq': '300',\n",
       " 'percent': '37',\n",
       " 'point_time': '2022-05-05T07:20:00Z'}"
      ]
     },
     "execution_count": 5,
     "metadata": {},
     "output_type": "execute_result"
    }
   ],
   "source": [
    "latitude = 33.844978\n",
    "longitude = -118.387238\n",
    "lati_long = (latitude, longitude)\n",
    "wt.real_time_emissions_index(lati_long=lati_long, style=\"moer\")"
   ]
  },
  {
   "cell_type": "markdown",
   "metadata": {},
   "source": [
    "### Grid Emissions Data\n",
    "- https://www.watttime.org/api-documentation/#grid-emissions-data"
   ]
  },
  {
   "cell_type": "markdown",
   "metadata": {},
   "source": [
    "#### Search by Balancing Authority Abbreviation"
   ]
  },
  {
   "cell_type": "code",
   "execution_count": 6,
   "metadata": {},
   "outputs": [
    {
     "data": {
      "text/plain": [
       "[{'point_time': '2022-05-05T07:20:00Z',\n",
       "  'value': '864',\n",
       "  'frequency': 300,\n",
       "  'market': 'RTM',\n",
       "  'ba': 'CAISO_NORTH',\n",
       "  'datatype': 'MOER',\n",
       "  'version': '3.0'}]"
      ]
     },
     "execution_count": 6,
     "metadata": {},
     "output_type": "execute_result"
    }
   ],
   "source": [
    "bal_auth_abbr = \"CAISO_NORTH\"\n",
    "wt.grid_emissions_data(bal_auth_abbr=bal_auth_abbr)"
   ]
  },
  {
   "cell_type": "markdown",
   "metadata": {},
   "source": [
    "#### Search by Latitude and Longitude"
   ]
  },
  {
   "cell_type": "code",
   "execution_count": 7,
   "metadata": {},
   "outputs": [
    {
     "data": {
      "text/plain": [
       "{'error': 'Invalid query parameters',\n",
       " 'message': 'Invalid scope. You do not have sufficient access to this resource. See https://api.watttime.org/plans/ for more information or email contact@watttime.org for pricing. Please note that all users are allowed free access to CAISO_NORTH.'}"
      ]
     },
     "execution_count": 7,
     "metadata": {},
     "output_type": "execute_result"
    }
   ],
   "source": [
    "latitude = 33.844978\n",
    "longitude = -118.387238\n",
    "lati_long = (latitude, longitude)\n",
    "wt.grid_emissions_data(lati_long=lati_long)"
   ]
  }
 ],
 "metadata": {
  "interpreter": {
   "hash": "e79b0e9f06429924ee60a122a3485d2f444e8b1d90c8879df2401337c0a40a10"
  },
  "kernelspec": {
   "display_name": "Python 3.9.6 ('env': venv)",
   "language": "python",
   "name": "python3"
  },
  "language_info": {
   "codemirror_mode": {
    "name": "ipython",
    "version": 3
   },
   "file_extension": ".py",
   "mimetype": "text/x-python",
   "name": "python",
   "nbconvert_exporter": "python",
   "pygments_lexer": "ipython3",
   "version": "3.9.6"
  },
  "orig_nbformat": 4
 },
 "nbformat": 4,
 "nbformat_minor": 2
}
