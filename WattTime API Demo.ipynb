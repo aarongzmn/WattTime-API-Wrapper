{
 "cells": [
  {
   "cell_type": "markdown",
   "metadata": {},
   "source": [
    "# WattTime\n",
    "This Python module was created to facilitate interaction with the WattTime API.\n",
    "This module provides full API functionality can be accessed through this module, as well as some additional tools that make \n",
    "- https://www.watttime.org/api-documentation"
   ]
  },
  {
   "cell_type": "markdown",
   "metadata": {},
   "source": [
    "## Register Account\n",
    "#### Skip this step if you already have an account.\n",
    "- https://www.watttime.org/api-documentation/#register-new-user"
   ]
  },
  {
   "cell_type": "code",
   "execution_count": null,
   "metadata": {},
   "outputs": [],
   "source": [
    "from WattTime import WattTime\n",
    "\n",
    "username = \"{USERNAME}\"\n",
    "password = \"{PASSWORD}\"\n",
    "email = \"{EMAIL_ADDRESS}\"\n",
    "org = \"{ORG_NAME}\"\n",
    "\n",
    "wt = WattTime.RegisterNewUser(username, password, email)\n"
   ]
  },
  {
   "cell_type": "markdown",
   "metadata": {},
   "source": [
    "## Instantiate Class and Authenticate\n",
    "#### Requires account username and password"
   ]
  },
  {
   "cell_type": "code",
   "execution_count": null,
   "metadata": {},
   "outputs": [],
   "source": [
    "from WattTime import WattTime\n",
    "import os\n",
    "\n",
    "\n",
    "username = os.getenv(\"WATTTIME_API_USERNAME\")\n",
    "password = os.getenv(\"WATTTIME_API_PASSWORD\")\n",
    "\n",
    "wt = WattTime.GridEmissionsInformation(username, password)"
   ]
  },
  {
   "cell_type": "markdown",
   "metadata": {},
   "source": [
    "## Grid Emissions Information (Class Methods)"
   ]
  },
  {
   "cell_type": "markdown",
   "metadata": {},
   "source": [
    "### Determine Grid Region\n",
    "- https://www.watttime.org/api-documentation/#determine-grid-region"
   ]
  },
  {
   "cell_type": "code",
   "execution_count": null,
   "metadata": {},
   "outputs": [],
   "source": [
    "latitude = 33.844978\n",
    "longitude = -118.387238\n",
    "wt.determine_grid_region(latitude, longitude)"
   ]
  },
  {
   "cell_type": "markdown",
   "metadata": {},
   "source": [
    "### List of Grid Regions\n",
    "- https://www.watttime.org/api-documentation/#list-of-grid-regions"
   ]
  },
  {
   "cell_type": "code",
   "execution_count": null,
   "metadata": {},
   "outputs": [],
   "source": [
    "all_regions = False\n",
    "\n",
    "wt.list_grid_regions(all_regions)"
   ]
  },
  {
   "cell_type": "markdown",
   "metadata": {},
   "source": [
    "### Real-time Emissions Index\n",
    "- https://www.watttime.org/api-documentation/#real-time-emissions-index"
   ]
  },
  {
   "cell_type": "markdown",
   "metadata": {},
   "source": [
    "#### Search by Balancing Authority Abbreviation"
   ]
  },
  {
   "cell_type": "code",
   "execution_count": null,
   "metadata": {},
   "outputs": [],
   "source": [
    "bal_auth_abbr = \"CAISO_NORTH\"\n",
    "wt.real_time_emissions_index(bal_auth_abbr=bal_auth_abbr)"
   ]
  },
  {
   "cell_type": "markdown",
   "metadata": {},
   "source": [
    "#### Search by Latitude and Longitude"
   ]
  },
  {
   "cell_type": "code",
   "execution_count": null,
   "metadata": {},
   "outputs": [],
   "source": [
    "latitude = 33.844978\n",
    "longitude = -118.387238\n",
    "lati_long = (latitude, longitude)\n",
    "wt.real_time_emissions_index(lati_long=lati_long, style=\"moer\")"
   ]
  },
  {
   "cell_type": "markdown",
   "metadata": {},
   "source": [
    "### Grid Emissions Data\n",
    "- https://www.watttime.org/api-documentation/#grid-emissions-data"
   ]
  },
  {
   "cell_type": "markdown",
   "metadata": {},
   "source": [
    "#### Search by Balancing Authority Abbreviation"
   ]
  },
  {
   "cell_type": "code",
   "execution_count": null,
   "metadata": {},
   "outputs": [],
   "source": [
    "bal_auth_abbr = \"CAISO_NORTH\"\n",
    "wt.grid_emissions_data(bal_auth_abbr=bal_auth_abbr)"
   ]
  },
  {
   "cell_type": "markdown",
   "metadata": {},
   "source": [
    "#### Search by Latitude and Longitude"
   ]
  },
  {
   "cell_type": "code",
   "execution_count": null,
   "metadata": {},
   "outputs": [],
   "source": [
    "latitude = 33.844978\n",
    "longitude = -118.387238\n",
    "lati_long = (latitude, longitude)\n",
    "wt.grid_emissions_data(lati_long=lati_long)"
   ]
  },
  {
   "cell_type": "markdown",
   "metadata": {},
   "source": [
    "### Historical Emissions"
   ]
  },
  {
   "cell_type": "code",
   "execution_count": null,
   "metadata": {},
   "outputs": [],
   "source": [
    "bal_auth_abbr=\"CAISO_NORTH\"\n",
    "filename = \"historical_emissions\"\n",
    "extract_files = True\n",
    "concatenate = True\n",
    "\n",
    "wt.historical_emissions(bal_auth_abbr, filename)\n"
   ]
  },
  {
   "cell_type": "markdown",
   "metadata": {},
   "source": [
    "### Emissions Forecast"
   ]
  },
  {
   "cell_type": "code",
   "execution_count": null,
   "metadata": {},
   "outputs": [],
   "source": [
    "bal_auth_abbr=\"CAISO_NORTH\"\n",
    "\n",
    "data = wt.emissions_forcast(bal_auth_abbr, extended_forecast=False)\n",
    "print(f\"Data generated at: {data.get('generated_at')}. \\n{len(data.get('forecast'))} datapoints found\")"
   ]
  },
  {
   "cell_type": "markdown",
   "metadata": {},
   "source": [
    "### Grid Region Map Geometry"
   ]
  },
  {
   "cell_type": "code",
   "execution_count": null,
   "metadata": {},
   "outputs": [],
   "source": [
    "from WattTime import WattTime\n",
    "import os\n",
    "\n",
    "\n",
    "username = os.getenv(\"WATTTIME_API_USERNAME\")\n",
    "password = os.getenv(\"WATTTIME_API_PASSWORD\")\n",
    "\n",
    "wt = WattTime.GridEmissionsInformation(username, password)"
   ]
  },
  {
   "cell_type": "code",
   "execution_count": null,
   "metadata": {},
   "outputs": [],
   "source": [
    "# Localize Time\n",
    "from datetime import datetime\n",
    "import pytz\n",
    "\n",
    "\n",
    "timestamp = pytz.utc.localize(datetime(2020, 6, 1, 12, 30))\n",
    "timestamp"
   ]
  },
  {
   "cell_type": "code",
   "execution_count": null,
   "metadata": {},
   "outputs": [],
   "source": [
    "\n",
    "from datetime import datetime, timedelta\n",
    "import time\n",
    "import random\n",
    "\n",
    "def create_ts_list(ts_count):\n",
    "    ts_list = []\n",
    "    for i in range(ts_count):\n",
    "        ts = datetime.now() - timedelta(seconds=i*2)\n",
    "        ts_list.append(ts)\n",
    "    return ts_list\n",
    "\n",
    "ts_to_generate = 60\n",
    "old_ts_list = create_ts_list(ts_to_generate)\n"
   ]
  },
  {
   "cell_type": "code",
   "execution_count": null,
   "metadata": {},
   "outputs": [],
   "source": [
    "\n",
    "def rate_limit_check():\n",
    "    rate_limit_time = datetime.now() - timedelta(minutes=5)\n",
    "    rate_limit = 3000"
   ]
  },
  {
   "cell_type": "code",
   "execution_count": null,
   "metadata": {},
   "outputs": [],
   "source": [
    "def mock_request(ts_list):\n",
    "    rate_limit = 20\n",
    "    rate_limit_time_range = 60\n",
    "    rate_limit_time = datetime.now() - timedelta(seconds=rate_limit_time_range)\n",
    "\n",
    "    ts_list.sort()  # oldest to newest\n",
    "    if len(ts_list) > rate_limit:\n",
    "        ts_list[0] = datetime.now()\n",
    "    else:\n",
    "        ts_list.append(datetime.now())\n",
    "    cur_rate = len([t for t in ts_list if rate_limit_time > t])\n",
    "\n",
    "    if cur_rate < rate_limit:\n",
    "        print(f\"{cur_rate} requests made over last {rate_limit_time_range} seconds.\") \n",
    "    else:\n",
    "        # Calculate time to wait\n",
    "    return ts_list\n"
   ]
  },
  {
   "cell_type": "code",
   "execution_count": 517,
   "metadata": {},
   "outputs": [
    {
     "name": "stdout",
     "output_type": "stream",
     "text": [
      "0 requests made over last 60 seconds.\n"
     ]
    }
   ],
   "source": [
    "\n",
    "rate_limit = 60\n",
    "rate_limit_time_range = 60\n",
    "rate_limit_time = time.time() - rate_limit\n",
    "\n",
    "old_ts_list.sort()  # oldest to newest\n",
    "if len(old_ts_list) >= rate_limit:\n",
    "    old_ts_list[0] = time.time()\n",
    "else:\n",
    "    old_ts_list.append(time.time())\n",
    "\n",
    "new_ts_list = [t for t in old_ts_list if rate_limit_time > t]\n",
    "new_ts_list.sort()  # oldest to newest\n",
    "cur_rate = len(new_ts_list)\n",
    "\n",
    "\n",
    "if cur_rate < rate_limit:\n",
    "    print(f\"{cur_rate} requests made over last {rate_limit_time_range} seconds.\") \n",
    "else:\n",
    "\n",
    "    pass\n",
    "    # Calculate time to wait\n"
   ]
  },
  {
   "cell_type": "code",
   "execution_count": 460,
   "metadata": {},
   "outputs": [],
   "source": [
    "old_ts_list =  []"
   ]
  }
 ],
 "metadata": {
  "interpreter": {
   "hash": "a40b81285cd44128feec821dab73a47bf32ae22f8f2a6a05ed02e00772026319"
  },
  "kernelspec": {
   "display_name": "Python 3.9.5 64-bit",
   "language": "python",
   "name": "python3"
  },
  "language_info": {
   "codemirror_mode": {
    "name": "ipython",
    "version": 3
   },
   "file_extension": ".py",
   "mimetype": "text/x-python",
   "name": "python",
   "nbconvert_exporter": "python",
   "pygments_lexer": "ipython3",
   "version": "3.9.5"
  },
  "orig_nbformat": 4
 },
 "nbformat": 4,
 "nbformat_minor": 2
}
